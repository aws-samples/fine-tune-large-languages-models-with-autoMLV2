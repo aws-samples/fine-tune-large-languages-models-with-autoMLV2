{
 "cells": [
  {
   "cell_type": "markdown",
   "id": "b5d8a615-2d77-407d-8ca8-ca7b9cd72d7f",
   "metadata": {
    "tags": []
   },
   "source": [
    "# Fine Tuning Large Language Model with AutoMLV2"
   ]
  },
  {
   "cell_type": "markdown",
   "id": "199d3339-9e5c-416f-ab9e-1f9cbbc196d2",
   "metadata": {},
   "source": [
    "In this notebook, we will explore the process of fine-tuning a LLaMA-2 7B model for question-answering tasks in the healthcare domain. The steps involve loading a specialized healthcare dataset and leveraging Amazon SageMaker's capabilities, specifically focusing on using SageMaker Pipelines and AutoMLv2. Our end goal is to deploy the fine-tuned model to perform either real-time or batch inference, enabling it to make accurate predictions based on the input questions."
   ]
  },
  {
   "cell_type": "markdown",
   "id": "4b832734-1b04-4356-a53e-6161c7943ea6",
   "metadata": {},
   "source": [
    "## Setup"
   ]
  },
  {
   "cell_type": "markdown",
   "id": "fd0f00d7-ba87-4bda-b857-c2954a3a96a7",
   "metadata": {},
   "source": [
    "This notebook has been run in Amazon SageMaker Studio. The space is configured with a t3.medium, with image SageMaker Distribution 1.4 and kernel Python 3 (ipykernel)."
   ]
  },
  {
   "cell_type": "code",
   "execution_count": 24,
   "id": "67021f54-c378-431e-97b1-88d0ab642bd5",
   "metadata": {},
   "outputs": [
    {
     "name": "stdout",
     "output_type": "stream",
     "text": [
      "\u001b[33mWARNING: Running pip as the 'root' user can result in broken permissions and conflicting behaviour with the system package manager, possibly rendering your system unusable.It is recommended to use a virtual environment instead: https://pip.pypa.io/warnings/venv. Use the --root-user-action option if you know what you are doing and want to suppress this warning.\u001b[0m\u001b[33m\n",
      "\u001b[0m"
     ]
    }
   ],
   "source": [
    "!pip install -U awscli sagemaker boto3 botocore fmeval==1.0.3 datasets --quiet"
   ]
  },
  {
   "cell_type": "code",
   "execution_count": 2,
   "id": "ae64e47b-9529-4eec-916d-61dbdb291ba7",
   "metadata": {},
   "outputs": [
    {
     "name": "stdout",
     "output_type": "stream",
     "text": [
      "sagemaker.config INFO - Not applying SDK defaults from location: /etc/xdg/sagemaker/config.yaml\n",
      "sagemaker.config INFO - Not applying SDK defaults from location: /root/.config/sagemaker/config.yaml\n"
     ]
    },
    {
     "name": "stderr",
     "output_type": "stream",
     "text": [
      "2024-07-23 08:18:24,344\tINFO util.py:154 -- Outdated packages:\n",
      "  ipywidgets==7.6.5 found, needs ipywidgets>=8\n",
      "Run `pip install -U ipywidgets`, then restart the notebook server for rich notebook output.\n",
      "2024-07-23 08:18:24,784\tINFO util.py:154 -- Outdated packages:\n",
      "  ipywidgets==7.6.5 found, needs ipywidgets>=8\n",
      "Run `pip install -U ipywidgets`, then restart the notebook server for rich notebook output.\n",
      "INFO:datasets:PyTorch version 2.3.1 available.\n"
     ]
    }
   ],
   "source": [
    "# SageMaker Python SDK Dependencies\n",
    "import sagemaker\n",
    "from sagemaker import ModelPackage\n",
    "from sagemaker.image_uris import retrieve\n",
    "from sagemaker.lambda_helper import Lambda\n",
    "from sagemaker.processing import ProcessingInput, ProcessingOutput\n",
    "from sagemaker.sklearn.processing import SKLearnProcessor\n",
    "from sagemaker.workflow.callback_step import CallbackStep\n",
    "from sagemaker.workflow.lambda_step import LambdaStep\n",
    "from sagemaker.workflow.parameters import ParameterInteger, ParameterString, ParameterFloat\n",
    "from sagemaker.workflow.pipeline import Pipeline\n",
    "from sagemaker.workflow.steps import ProcessingStep, CacheConfig\n",
    "from sagemaker.workflow.function_step import step\n",
    "from sagemaker.automl.automlv2 import AutoMLV2, AutoMLTextGenerationConfig, AutoMLDataChannel\n",
    "#other dependencies\n",
    "import boto3\n",
    "import os\n",
    "\n",
    "# Helpers\n",
    "import time\n",
    "from datetime import datetime\n",
    "from time import gmtime, sleep, strftime\n",
    "\n",
    "# Dataset\n",
    "from datasets import load_dataset, Dataset\n",
    "\n",
    "os.environ[\"SAGEMAKER_USER_CONFIG_OVERRIDE\"] = os.getcwd()"
   ]
  },
  {
   "cell_type": "markdown",
   "id": "4e04a971-3a4b-4d45-9e3f-c11e1548c5a0",
   "metadata": {},
   "source": [
    "## Initialization"
   ]
  },
  {
   "cell_type": "code",
   "execution_count": 3,
   "id": "6ff6c883-6cd5-4799-8c39-1e0cfc71f8f4",
   "metadata": {},
   "outputs": [
    {
     "name": "stdout",
     "output_type": "stream",
     "text": [
      "sagemaker.config INFO - Fetched defaults config from location: /root/autoMLV2\n"
     ]
    }
   ],
   "source": [
    "boto_session = boto3.session.Session()\n",
    "aws_region = boto_session.region_name\n",
    "sagemaker_client = boto_session.client(\"sagemaker\")\n",
    "lambda_client = boto_session.client(\"lambda\")\n",
    "sagemaker_session = sagemaker.session.Session(\n",
    "    boto_session=boto_session, sagemaker_client=sagemaker_client\n",
    ")\n",
    "sqs_client = boto_session.client(\n",
    "    \"sqs\",\n",
    "    region_name=aws_region,\n",
    "    endpoint_url=f\"https://sqs.{aws_region}.amazonaws.com\",\n",
    ")\n",
    "BUCKET_NAME = sagemaker_session.default_bucket()"
   ]
  },
  {
   "cell_type": "markdown",
   "id": "558f0511-b311-4e4f-9c08-53b7e45bfc38",
   "metadata": {
    "tags": []
   },
   "source": [
    "## IAM Permissions"
   ]
  },
  {
   "cell_type": "markdown",
   "id": "0c44b559-7f80-4aaf-80f0-14bda2b3476c",
   "metadata": {},
   "source": [
    "This notebook simplifies the IAM permissions configuration when creating required IAM roles that can be assumed by the SageMaker and Lambda services. The following managed policies are sufficient to run this notebook but should be further scoped down to improve security (least privilege principle).\n",
    "\n",
    "- Lambda Execution Role:\n",
    "    - AmazonSageMakerFullAccess\n",
    "    - AmazonSQSFullAccess\n",
    "- SageMaker Execution Role:\n",
    "    - AmazonSageMakerFullAccess\n",
    "    - AWSLambda_FullAccess\n",
    "    - AmazonSQSFullAccess"
   ]
  },
  {
   "cell_type": "code",
   "execution_count": 4,
   "id": "0548f467-5df6-4b03-b40d-281998739cc7",
   "metadata": {},
   "outputs": [],
   "source": [
    "lambda_execution_role_name = \"LambdaExecutionRole\"\n",
    "aws_account_id = boto3.client(\"sts\").get_caller_identity().get(\"Account\")\n",
    "LAMBDA_EXECUTION_ROLE_ARN = f\"arn:aws:iam::{aws_account_id}:role/{lambda_execution_role_name}\"  # to be assumed by the Lambda service\n",
    "SAGEMAKER_EXECUTION_ROLE_ARN = (\n",
    "    sagemaker.get_execution_role()\n",
    ")  "
   ]
  },
  {
   "cell_type": "markdown",
   "id": "df531522-640a-4144-bb0a-9044d573e365",
   "metadata": {
    "tags": []
   },
   "source": [
    "# SageMaker Training Pipeline "
   ]
  },
  {
   "cell_type": "markdown",
   "id": "50ae2b94-c93c-438c-b8db-6feceb0f1c85",
   "metadata": {},
   "source": [
    "## Pipeline Parameters"
   ]
  },
  {
   "cell_type": "markdown",
   "id": "22cebb51-a130-4359-a92f-2e04c5a30d2e",
   "metadata": {},
   "source": [
    "In the following, we set the different parameters needed in the pipeline steps"
   ]
  },
  {
   "cell_type": "code",
   "execution_count": 5,
   "id": "9f420ff6-54a2-4748-8633-809cc36e142a",
   "metadata": {},
   "outputs": [],
   "source": [
    "cache_config = CacheConfig(enable_caching=False)\n",
    "autopilot_job_name = ParameterString(\n",
    "    name=\"AutopilotJobName\",\n",
    "    default_value=\"autopilot-\" + datetime.now().strftime(\"%Y-%m-%d-%H-%M-%S\"),\n",
    ")\n",
    "# Name of the mode to be fine-tuned. Change this to the model of your choice\n",
    "base_model_name = ParameterString(name=\"BaseModelName\", default_value=\"Llama2-7B\")\n",
    "s3_path= ParameterString(\n",
    "    name=\"S3Path\",\n",
    "    default_value=sagemaker.s3.s3_path_join(\n",
    "        \"s3://\", BUCKET_NAME, autopilot_job_name.default_value\n",
    "    ),\n",
    ")\n",
    "\n",
    "#S3 Output paths\n",
    "training_output_s3_path = ParameterString(\n",
    "    name=\"TrainingOutputS3Path\",\n",
    "    default_value=sagemaker.s3.s3_path_join(\n",
    "        \"s3://\", BUCKET_NAME, autopilot_job_name.default_value, \"training-output\"\n",
    "    ),\n",
    ")\n",
    "output_s3_path = ParameterString(\n",
    "    name=\"OutputS3Path\",\n",
    "    default_value=sagemaker.s3.s3_path_join(\n",
    "        \"s3://\", BUCKET_NAME, autopilot_job_name.default_value, \"output\"\n",
    "    ),\n",
    ")\n"
   ]
  },
  {
   "cell_type": "markdown",
   "id": "64221dc8-9ca6-4495-bbd4-5fa9a1b96849",
   "metadata": {},
   "source": [
    "## Step 1: Load & Split Dataset\n",
    "Let's first define the S3 paths to store the different samples of the dataset.\n",
    "\n",
    "`train_dataset_s3_path`: path of S3 bucket to store the training dataset\n",
    "\n",
    "`validation_dataset_s3_path`: path of S3 bucket to store the validation dataset. To be used during evaluation step.\n"
   ]
  },
  {
   "cell_type": "code",
   "execution_count": 6,
   "id": "e2ba0357-c48e-483d-b4e9-cf5cb8539a03",
   "metadata": {},
   "outputs": [
    {
     "name": "stdout",
     "output_type": "stream",
     "text": [
      "s3://sagemaker-us-east-1-146025735673/autopilot-2024-07-18-13-34-47/data/train/train.csv\n"
     ]
    }
   ],
   "source": [
    "#Dataset S3 input paths\n",
    "train_dataset_s3_path = ParameterString(\n",
    "    name=\"TrainDatasetS3Path\",\n",
    "    default_value=sagemaker.s3.s3_path_join(\n",
    "        \"s3://\", BUCKET_NAME, autopilot_job_name.default_value, \"data/train\", \"train.csv\"\n",
    "    ),\n",
    ")\n",
    "validation_dataset_s3_path = ParameterString(\n",
    "    name=\"ValidationDatasetS3Path\",\n",
    "    default_value=sagemaker.s3.s3_path_join(\n",
    "        \"s3://\", BUCKET_NAME, autopilot_job_name.default_value, \"data/validation\", \"validation.csv\"\n",
    "    ),\n",
    ")"
   ]
  },
  {
   "cell_type": "markdown",
   "id": "6c5034ee-4551-4bd6-9615-20647f003235",
   "metadata": {},
   "source": [
    "We load a set of data from huggingFace to accompany this notebook. The dataset is a set of questions/answers on multiple healthcare cases. You may use our synthetic dataset, or alter this notebook to accommodate your own data. As a note, the next cell will load the dataset to your S3 bucket.\n",
    "IMPORTANT: When training the model using AutoMLV2, your dataset should contain only 2 columns: 'input' and 'output'."
   ]
  },
  {
   "cell_type": "code",
   "execution_count": 22,
   "id": "61bca86d-e02d-4613-83e4-e90f025355fa",
   "metadata": {
    "tags": []
   },
   "outputs": [],
   "source": [
    "import load_split_dataset\n",
    "step_load_dataset = step(load_split_dataset.load_split_dataset, name=\"load_split_dataset\")(train_dataset_s3_path.default_value, validation_dataset_s3_path.default_value)"
   ]
  },
  {
   "cell_type": "markdown",
   "id": "1f81455d-4be5-4106-aa77-13b2ac6b30be",
   "metadata": {
    "tags": []
   },
   "source": [
    "## Step 2: Create an AutoMLV2 Job to train the model"
   ]
  },
  {
   "cell_type": "markdown",
   "id": "074d532d-242d-4736-8334-34e7d83b029c",
   "metadata": {},
   "source": [
    "### Define the AutoML text generation config"
   ]
  },
  {
   "cell_type": "markdown",
   "id": "8b8f90df-3534-4111-a28f-b9dcd9f3fbbd",
   "metadata": {},
   "source": [
    "Let's define the configuration parameters we'll be passing to the Text Generation Job Configuration."
   ]
  },
  {
   "cell_type": "code",
   "execution_count": 35,
   "id": "a1ac4987-38ea-45a8-ac72-6114c6afb63d",
   "metadata": {},
   "outputs": [],
   "source": [
    "#hyperparameters\n",
    "epoch_count = ParameterString(name=\"epochCount\", default_value=\"3\")\n",
    "learning_rate = ParameterString(name=\"learningRate\", default_value=\"0.00001\")\n",
    "batch_size = ParameterString(name=\"batchSize\", default_value=\"1\") \n",
    "learning_rate_warmup_steps = ParameterString(name=\"learningRateWarmupSteps\", default_value=\"0\") "
   ]
  },
  {
   "cell_type": "markdown",
   "id": "30fd2c42-ada8-4b80-94f7-917ec8ef368a",
   "metadata": {
    "jp-MarkdownHeadingCollapsed": true,
    "tags": []
   },
   "source": [
    "### Configuration highlights\n",
    "`epochCount`\n",
    "* __Description__: Determines how many times the model goes through the entire training dataset.<br>\n",
    "* __Value '3'__: One epoch means the Llama2 model has been exposed to all 10000 samples and had a chance to learn from them. You can stick to 3, or increase the number, if the model doesn’t converge with just 3 epochs\n",
    "\n",
    "`learning_rate`\n",
    "* __Description__: Controls the step size at which a model's parameters are updated during training. It determines how quickly or slowly the model's parameters are updated during training.<br>\n",
    "* __Value '0.00001'__: A learning rate of 1e-5 or 2e-5 is a good standard when fine-tuning LLMs like llama2.\n",
    "\n",
    "`batch_size`\n",
    "* __Description__: Defines the number of data samples used in each iteration of training. It can affect the convergence speed and memory usage.<br>\n",
    "* __Value '1'__: Start with 1 to avoid out of memory error\n",
    "\n",
    "`learning_rate_warmup_steps`\n",
    "* __Description__: Specifies the number of training steps during which the learning rate gradually increases before reaching its target or maximum value.<br>\n",
    "* __Value '1'__: Start with a value 1"
   ]
  },
  {
   "cell_type": "markdown",
   "id": "6e4cc766-7293-4869-a114-d7b9663f64a6",
   "metadata": {},
   "source": [
    "### Create an AutoMLV2 Job to train the model"
   ]
  },
  {
   "cell_type": "code",
   "execution_count": 24,
   "id": "4edb6d1f-492c-4e0e-9dce-89b7144321e6",
   "metadata": {
    "tags": []
   },
   "outputs": [],
   "source": [
    "lambda_start_autopilot_job = Lambda(\n",
    "    function_name=\"StartSagemakerAutopilotJob\",\n",
    "    execution_role_arn=LAMBDA_EXECUTION_ROLE_ARN,\n",
    "    script=\"start_autopilot_job.py\",\n",
    "    handler=\"start_autopilot_job.lambda_handler\",\n",
    "    session=sagemaker_session,\n",
    ")\n",
    "lambda_start_autopilot_job.upsert()\n",
    "step_start_autopilot_job = LambdaStep(\n",
    "    name=\"StartAutopilotJobStep\",\n",
    "    lambda_func=lambda_start_autopilot_job,\n",
    "    inputs={\n",
    "        \"TrainDatasetS3Path\": train_dataset_s3_path.default_value,\n",
    "        \"TrainingOutputS3Path\": training_output_s3_path.default_value,\n",
    "        \"AutopilotJobName\": autopilot_job_name.default_value,\n",
    "        \"BaseModelName\": base_model_name.default_value,\n",
    "        \"epochCount\": epoch_count.default_value,\n",
    "        \"learningRate\": learning_rate.default_value,\n",
    "        \"batchSize\": batch_size.default_value,\n",
    "        \"learningRateWarmupSteps\": learning_rate_warmup_steps.default_value,\n",
    "        \"AutopilotExecutionRoleArn\": SAGEMAKER_EXECUTION_ROLE_ARN,\n",
    "    },\n",
    "    cache_config=cache_config,\n",
    "    depends_on=[step_load_dataset]\n",
    ")"
   ]
  },
  {
   "cell_type": "markdown",
   "id": "49ab77f9-f137-4f1c-8a04-3b8b2c5875f8",
   "metadata": {},
   "source": [
    "## Step 3: Check Completion Status of the AutoMLV2 Job "
   ]
  },
  {
   "cell_type": "code",
   "execution_count": 25,
   "id": "0f46076e-1f8a-4dd7-8f0f-38a27382eefe",
   "metadata": {},
   "outputs": [],
   "source": [
    "lambda_check_autopilot_job_status_function_name = \"CheckSagemakerAutopilotJobStatus\"\n",
    "lambda_check_autopilot_job_status = Lambda(\n",
    "    function_name=lambda_check_autopilot_job_status_function_name,\n",
    "    execution_role_arn=LAMBDA_EXECUTION_ROLE_ARN,\n",
    "    script=\"check_autopilot_job_status.py\",\n",
    "    handler=\"check_autopilot_job_status.lambda_handler\",\n",
    "    session=sagemaker_session,\n",
    "    timeout=15,\n",
    ")\n",
    "lambda_check_autopilot_job_status.upsert()\n",
    "queue_url = sqs_client.create_queue(\n",
    "    QueueName=\"AutopilotSagemakerPipelinesSqsCallback\",\n",
    "    Attributes={\"DelaySeconds\": \"5\", \"VisibilityTimeout\": \"300\"},\n",
    ")[\n",
    "    \"QueueUrl\"\n",
    "]  # 5 minutes timeout\n",
    "# Add event source mapping\n",
    "try:\n",
    "    response = lambda_client.create_event_source_mapping(\n",
    "        EventSourceArn=sqs_client.get_queue_attributes(\n",
    "            QueueUrl=queue_url, AttributeNames=[\"QueueArn\"]\n",
    "        )[\"Attributes\"][\"QueueArn\"],\n",
    "        FunctionName=lambda_check_autopilot_job_status_function_name,\n",
    "        Enabled=True,\n",
    "        BatchSize=1,\n",
    "    )\n",
    "except lambda_client.exceptions.ResourceConflictException:\n",
    "    pass\n",
    "step_check_autopilot_job_status_callback = CallbackStep(\n",
    "    name=\"CheckAutopilotJobStatusCallbackStep\",\n",
    "    sqs_queue_url=queue_url,\n",
    "    inputs={\"AutopilotJobName\": autopilot_job_name},\n",
    "    outputs=[],\n",
    "    depends_on=[step_start_autopilot_job],\n",
    ")"
   ]
  },
  {
   "cell_type": "markdown",
   "id": "9eb6db88-7c21-48e4-839b-5363a52e22d1",
   "metadata": {},
   "source": [
    "## Step 4: Create Model"
   ]
  },
  {
   "cell_type": "markdown",
   "id": "aefe2f3b-ac99-478c-be83-b1e8fa61eaf8",
   "metadata": {},
   "source": [
    "This step is focused on creating a SageMaker model from the best candidate generated by the AutoML job and retrieving insights about the model:\n",
    "\n",
    "- automl_pipeline_model is created using the create_model method of the AutoMLV2 object, which packages the best candidate model for deployment. This model is identified by best_candidate_name and originates from the best_candidate data structure.\n",
    "\n",
    "- model_insights_report and model_explainability_report are extracted from the best_candidate's properties. These reports provide valuable insights into the model's performance and explainability, offering an in-depth understanding of how the model makes its predictions."
   ]
  },
  {
   "cell_type": "code",
   "execution_count": 7,
   "id": "f3d5047e-0b37-4573-bbcf-ba9f99e537d6",
   "metadata": {},
   "outputs": [],
   "source": [
    "model_name = ParameterString(name=\"ModelName\")\n",
    "model_metrics_report_param = ParameterString(name=\"ModelMetricsReport\")\n",
    "metrics_report_s3_path = ParameterString(\n",
    "    name=\"MetricsReportS3Path\",\n",
    "    default_value=sagemaker.s3.s3_path_join(\n",
    "        \"s3://\", BUCKET_NAME, autopilot_job_name.default_value, \"metrics/model_metrics.json\"\n",
    "    ),\n",
    ")\n",
    "endpoint_name = ParameterString(name=\"EndpointName\", default_value=\" \")"
   ]
  },
  {
   "cell_type": "code",
   "execution_count": 39,
   "id": "8559c62a-f338-4c4f-bfc5-c170cf7f179b",
   "metadata": {},
   "outputs": [],
   "source": [
    "from sagemaker.workflow.lambda_step import LambdaOutput, LambdaOutputTypeEnum\n",
    "output_param_1 = LambdaOutput(\n",
    "    output_name=\"model_name_param\", output_type=LambdaOutputTypeEnum.String\n",
    ")\n",
    "output_param_2 = LambdaOutput(\n",
    "    output_name=\"model_metrics_report_param\", output_type=LambdaOutputTypeEnum.String\n",
    ")\n",
    "\n",
    "output_param_3 = LambdaOutput(\n",
    "    output_name=\"endpoint_name_param\", output_type=LambdaOutputTypeEnum.String\n",
    ")\n",
    "\n",
    "lambda_create_autopilot_model = Lambda(\n",
    "    function_name=\"CreateSagemakerAutopilotModel\",\n",
    "    execution_role_arn=LAMBDA_EXECUTION_ROLE_ARN,\n",
    "    script=\"create_autopilot_model.py\",\n",
    "    handler=\"create_autopilot_model.lambda_handler\",\n",
    "    session=sagemaker_session,\n",
    "    timeout=15,\n",
    ")\n",
    "lambda_create_autopilot_model.upsert()\n",
    "step_create_autopilot_model = LambdaStep(\n",
    "    name=\"CreateAutopilotModelStep\",\n",
    "    lambda_func=lambda_create_autopilot_model,\n",
    "    inputs={\n",
    "        \"AutopilotJobName\": autopilot_job_name.default_value,\n",
    "        \"AutopilotExecutionRoleArn\": SAGEMAKER_EXECUTION_ROLE_ARN,\n",
    "        \"MetricsReportS3Path\": metrics_report_s3_path,\n",
    "    },\n",
    "    outputs=[output_param_1, output_param_2, output_param_3],\n",
    "    cache_config=cache_config,\n",
    "    depends_on=[step_check_autopilot_job_status_callback]\n",
    ")\n",
    "\n",
    "model_name = step_create_autopilot_model.properties.Outputs[\"model_name_param\"]\n",
    "model_metrics_report = step_create_autopilot_model.properties.Outputs[\"model_metrics_report_param\"]\n",
    "endpoint_name = step_create_autopilot_model.properties.Outputs[\"endpoint_name_param\"]"
   ]
  },
  {
   "cell_type": "markdown",
   "id": "d405cc90-0710-416e-a217-1fd0df099980",
   "metadata": {
    "tags": []
   },
   "source": [
    "## Create and Run Training Pipeline"
   ]
  },
  {
   "cell_type": "code",
   "execution_count": 40,
   "id": "a0e26346-fa28-4423-9b55-eba02eba9d34",
   "metadata": {
    "tags": []
   },
   "outputs": [],
   "source": [
    "pipeline = Pipeline(\n",
    "    name=\"training-pipeline\",\n",
    "    parameters=[\n",
    "        autopilot_job_name,\n",
    "        train_dataset_s3_path,\n",
    "        validation_dataset_s3_path,\n",
    "        base_model_name,\n",
    "        epoch_count,\n",
    "        learning_rate,\n",
    "        metrics_report_s3_path,\n",
    "        batch_size,\n",
    "        learning_rate_warmup_steps,\n",
    "        output_s3_path\n",
    "    ],\n",
    "    steps=[\n",
    "        step_load_dataset,\n",
    "        step_start_autopilot_job,\n",
    "        step_check_autopilot_job_status_callback,\n",
    "        step_create_autopilot_model,\n",
    "    ],\n",
    "    sagemaker_session=sagemaker_session,\n",
    ")\n",
    "pipeline.upsert(role_arn=SAGEMAKER_EXECUTION_ROLE_ARN)\n",
    "pipeline_execution = pipeline.start()\n",
    "pipeline_execution.wait(delay=20, max_attempts=24 * 60 * 3)  # max wait: 24 hours"
   ]
  },
  {
   "cell_type": "markdown",
   "id": "74df51d2-4fa3-4a88-b5dd-e255d8754e8c",
   "metadata": {
    "tags": []
   },
   "source": [
    "# SageMaker Inference Pipeline "
   ]
  },
  {
   "cell_type": "markdown",
   "id": "2649643f-a797-4054-9c04-b24e04ac780c",
   "metadata": {},
   "source": [
    "To evaluate the deployed model, we will use __fmeval__, a library to evaluate Large Language Models (LLMs) in order to help select the best LLM to register. The library contains algorithms to evaluate LLMs for Accuracy, Toxicity, Semantic Robustness and Prompt Stereotyping across different tasks.\n",
    "Also, implementations of the ModelRunner interface. ModelRunner encapsulates the logic for invoking different types of LLMs, exposing a predict method to simplify interactions with LLMs within the eval algorithm code. We have built-in support for Amazon SageMaker Endpoints and JumpStart models. The user can extend the interface for their own model classes by implementing the predict method."
   ]
  },
  {
   "cell_type": "code",
   "execution_count": 23,
   "id": "f725c209-91f3-4485-9a71-90ff4ebd6907",
   "metadata": {
    "tags": []
   },
   "outputs": [
    {
     "name": "stdout",
     "output_type": "stream",
     "text": [
      "ep-autopilot-model-2024-07-22-06-41-20-automl\n"
     ]
    }
   ],
   "source": [
    "print(endpoint_name.default_value)"
   ]
  },
  {
   "cell_type": "markdown",
   "id": "6b272b14-c6f2-474f-a24a-f9c5112edb9f",
   "metadata": {},
   "source": [
    "## Step 1: Preprocess Evaluation data"
   ]
  },
  {
   "cell_type": "markdown",
   "id": "2ba4843d-cf1d-4f05-b1a9-8ebd0b80357e",
   "metadata": {},
   "source": [
    "Let's define the output s3 path to store preprocessed evaluation data."
   ]
  },
  {
   "cell_type": "code",
   "execution_count": 61,
   "id": "063a586c-7501-4fe8-8b81-05eb199bfab5",
   "metadata": {
    "tags": []
   },
   "outputs": [],
   "source": [
    "#Dataset S3 input paths\n",
    "eval_dataset_s3_path = ParameterString(\n",
    "    name=\"EvalDatasetS3Path\",\n",
    "    default_value=sagemaker.s3.s3_path_join(\n",
    "        \"s3://\", BUCKET_NAME, autopilot_job_name.default_value, \"data/evaluation\", \"dataset_evaluation.jsonl\"\n",
    "    ),\n",
    ")"
   ]
  },
  {
   "cell_type": "code",
   "execution_count": 62,
   "id": "1e6a1d64-e572-4b04-aea6-4199d10ebca0",
   "metadata": {
    "tags": []
   },
   "outputs": [],
   "source": [
    "import preprocess_evaluation\n",
    "step_preprocess_eval_dataset = step(preprocess_evaluation.preprocess_evaluation, name=\"preprocess_evaluation\")(eval_dataset_s3_path.default_value, validation_dataset_s3_path.default_value)"
   ]
  },
  {
   "cell_type": "markdown",
   "id": "8951be61-8b4f-4637-95d6-b97c9f77766e",
   "metadata": {},
   "source": [
    "## Step 2: Evaluate Model"
   ]
  },
  {
   "cell_type": "code",
   "execution_count": 63,
   "id": "de4e615e-c22e-468c-93f9-6817eae6571f",
   "metadata": {
    "tags": []
   },
   "outputs": [],
   "source": [
    "#Dataset S3 input paths\n",
    "eval_metrics_output_key = ParameterString(\n",
    "    name=\"EvalMetricsOutputKey\",\n",
    "    default_value=f\"{autopilot_job_name.default_value}/metrics/evaluation_metrics.json\"\n",
    ")\n",
    "\n",
    "eval_metrics_output_s3_path = ParameterString(\n",
    "    name=\"EvalMetricsOutputS3Path\",\n",
    "    default_value=sagemaker.s3.s3_path_join(\n",
    "        \"s3://\", BUCKET_NAME, autopilot_job_name.default_value, \"metrics\", \"evaluation_metrics.json\"\n",
    "    ),\n",
    ")"
   ]
  },
  {
   "cell_type": "code",
   "execution_count": 64,
   "id": "20407739-a06c-45a1-b43f-5562bfc56628",
   "metadata": {
    "tags": []
   },
   "outputs": [],
   "source": [
    "import evaluate_model\n",
    "step_evaluate_model = step(evaluate_model.evaluate_model, name=\"evaluate\")(step_preprocess_eval_dataset, endpoint_name.default_value, BUCKET_NAME, eval_metrics_output_key.default_value)"
   ]
  },
  {
   "cell_type": "markdown",
   "id": "36a801ae-360f-465b-b206-c2d640ddd7df",
   "metadata": {},
   "source": [
    "## Step 3: Register Model"
   ]
  },
  {
   "cell_type": "code",
   "execution_count": 65,
   "id": "e20c37c0-7e60-461c-ac40-4db002e64d81",
   "metadata": {
    "tags": []
   },
   "outputs": [],
   "source": [
    "#registry parameters\n",
    "model_approval_status = ParameterString(name=\"ModelApprovalStatus\", default_value=\"Approved\")\n",
    "model_package_name = ParameterString(\n",
    "    name=\"ModelPackageName\",\n",
    "    default_value=autopilot_job_name.default_value + \"-model-package\",\n",
    ")\n",
    "instance_type = ParameterString(name=\"InstanceType\", default_value=\"ml.m5.xlarge\")"
   ]
  },
  {
   "cell_type": "code",
   "execution_count": 66,
   "id": "18672b20-04ae-487b-8173-c8a475e34957",
   "metadata": {
    "tags": []
   },
   "outputs": [],
   "source": [
    "lambda_register_autopilot_model = Lambda(\n",
    "    function_name=\"RegisterSagemakerAutopilotModel\",\n",
    "    execution_role_arn=LAMBDA_EXECUTION_ROLE_ARN,\n",
    "    script=\"register_autopilot_model.py\",\n",
    "    handler=\"register_autopilot_model.lambda_handler\",\n",
    "    session=sagemaker_session,\n",
    "    timeout=15,\n",
    ")\n",
    "lambda_register_autopilot_model.upsert()\n",
    "step_register_autopilot_model = LambdaStep(\n",
    "    name=\"RegisterAutopilotModelStep\",\n",
    "    lambda_func=lambda_register_autopilot_model,\n",
    "    inputs={\n",
    "        \"AutopilotJobName\": autopilot_job_name,\n",
    "        \"ModelPackageName\": model_package_name.default_value,\n",
    "        \"ModelApprovalStatus\": model_approval_status.default_value,\n",
    "        \"InstanceType\": instance_type.default_value,\n",
    "        \"EvalMetricsOutputS3Path\": eval_metrics_output_s3_path.default_value,\n",
    "        \"AutopilotExecutionRoleArn\": SAGEMAKER_EXECUTION_ROLE_ARN,\n",
    "    },\n",
    "    cache_config=cache_config,\n",
    ")"
   ]
  },
  {
   "cell_type": "markdown",
   "id": "e799df35-9ac2-42b2-8d74-8b1ddc8c110a",
   "metadata": {
    "tags": []
   },
   "source": [
    "## Step 4: Conditional step"
   ]
  },
  {
   "cell_type": "code",
   "execution_count": 67,
   "id": "a97c35f9-0d46-438f-a175-911520c7d513",
   "metadata": {
    "tags": []
   },
   "outputs": [],
   "source": [
    "from sagemaker.workflow.conditions import ConditionGreaterThan, ConditionGreaterThanOrEqualTo\n",
    "from sagemaker.workflow.execution_variables import ExecutionVariables\n",
    "from sagemaker.workflow.condition_step import ConditionStep\n",
    "from sagemaker.workflow.functions import Join, JsonGet\n",
    "eval_metrics_output_s3_path = Join(\n",
    "    on=\"/\",\n",
    "    values=[\"s3:/\",\n",
    "        BUCKET_NAME, \n",
    "        eval_metrics_output_key.default_value\n",
    "    ]\n",
    ")\n",
    "\n",
    "json_metrics_path = \"[0][0]['dataset_scores'][0]['f1_score']['value']\"\n",
    "step_conditional_registration = ConditionStep(\n",
    "        name=\"ConditionalRegistrationStep\",\n",
    "        conditions=[\n",
    "            ConditionGreaterThanOrEqualTo(\n",
    "                left=JsonGet(\n",
    "                    step_name=\"evaluate\",\n",
    "                    s3_uri= eval_metrics_output_s3_path,\n",
    "                    json_path=json_metrics_path,\n",
    "                ),\n",
    "                right=0.1,\n",
    "            )\n",
    "        ],\n",
    "        if_steps=[step_register_autopilot_model],\n",
    "        else_steps=[],  # pipeline end\n",
    "    )"
   ]
  },
  {
   "cell_type": "markdown",
   "id": "726b7068-e5ba-468b-86b1-3bd3dd66256f",
   "metadata": {},
   "source": [
    "### Create and Run Inference Pipeline"
   ]
  },
  {
   "cell_type": "code",
   "execution_count": 68,
   "id": "1bd4de3a-2f15-41cb-9829-ea770d110adc",
   "metadata": {},
   "outputs": [
    {
     "name": "stdout",
     "output_type": "stream",
     "text": [
      "sagemaker.config INFO - Applied value from config key = SageMaker.PythonSDK.Modules.RemoteFunction.Dependencies\n",
      "sagemaker.config INFO - Applied value from config key = SageMaker.PythonSDK.Modules.RemoteFunction.IncludeLocalWorkDir\n",
      "sagemaker.config INFO - Applied value from config key = SageMaker.PythonSDK.Modules.RemoteFunction.CustomFileFilter.IgnoreNamePatterns\n",
      "sagemaker.config INFO - Applied value from config key = SageMaker.PythonSDK.Modules.RemoteFunction.InstanceType\n"
     ]
    },
    {
     "name": "stderr",
     "output_type": "stream",
     "text": [
      "2024-07-23 10:13:52,695 sagemaker.remote_function INFO     Uploading serialized function code to s3://sagemaker-us-east-1-146025735673/inference-pipeline/preprocess_evaluation/2024-07-23-10-13-49-649/function\n",
      "2024-07-23 10:13:52,835 sagemaker.remote_function INFO     Uploading serialized function arguments to s3://sagemaker-us-east-1-146025735673/inference-pipeline/preprocess_evaluation/2024-07-23-10-13-49-649/arguments\n",
      "2024-07-23 10:13:53,071 sagemaker.remote_function INFO     Copied dependencies file at './requirements.txt' to '/tmp/tmpdx5_029e/requirements.txt'\n",
      "2024-07-23 10:13:53,099 sagemaker.remote_function INFO     Successfully uploaded dependencies and pre execution scripts to 's3://sagemaker-us-east-1-146025735673/inference-pipeline/preprocess_evaluation/2024-07-23-10-13-49-649/pre_exec_script_and_dependencies'\n",
      "2024-07-23 10:13:53,276 sagemaker.remote_function INFO     Copied user workspace to '/tmp/tmp4ewb8gqo/temp_workspace/sagemaker_remote_function_workspace'\n",
      "2024-07-23 10:13:53,802 sagemaker.remote_function INFO     Successfully created workdir archive at '/tmp/tmp4ewb8gqo/workspace.zip'\n",
      "2024-07-23 10:13:53,910 sagemaker.remote_function INFO     Successfully uploaded workdir to 's3://sagemaker-us-east-1-146025735673/inference-pipeline/sm_rf_user_ws/2024-07-23-10-13-49-649/workspace.zip'\n",
      "WARNING:sagemaker.workflow.utilities:Popping out 'TrainingJobName' from the pipeline definition by default since it will be overridden at pipeline execution time. Please utilize the PipelineDefinitionConfig to persist this field in the pipeline definition if desired.\n"
     ]
    },
    {
     "name": "stdout",
     "output_type": "stream",
     "text": [
      "sagemaker.config INFO - Applied value from config key = SageMaker.PythonSDK.Modules.RemoteFunction.Dependencies\n",
      "sagemaker.config INFO - Applied value from config key = SageMaker.PythonSDK.Modules.RemoteFunction.IncludeLocalWorkDir\n",
      "sagemaker.config INFO - Applied value from config key = SageMaker.PythonSDK.Modules.RemoteFunction.CustomFileFilter.IgnoreNamePatterns\n",
      "sagemaker.config INFO - Applied value from config key = SageMaker.PythonSDK.Modules.RemoteFunction.InstanceType\n"
     ]
    },
    {
     "name": "stderr",
     "output_type": "stream",
     "text": [
      "2024-07-23 10:13:56,379 sagemaker.remote_function INFO     Uploading serialized function code to s3://sagemaker-us-east-1-146025735673/inference-pipeline/evaluate/2024-07-23-10-13-49-649/function\n",
      "2024-07-23 10:13:56,444 sagemaker.remote_function INFO     Uploading serialized function arguments to s3://sagemaker-us-east-1-146025735673/inference-pipeline/evaluate/2024-07-23-10-13-49-649/arguments\n",
      "2024-07-23 10:13:56,516 sagemaker.remote_function INFO     Copied dependencies file at './requirements.txt' to '/tmp/tmpyb5yebml/requirements.txt'\n",
      "2024-07-23 10:13:56,551 sagemaker.remote_function INFO     Successfully uploaded dependencies and pre execution scripts to 's3://sagemaker-us-east-1-146025735673/inference-pipeline/evaluate/2024-07-23-10-13-49-649/pre_exec_script_and_dependencies'\n",
      "WARNING:sagemaker.workflow.utilities:Popping out 'TrainingJobName' from the pipeline definition by default since it will be overridden at pipeline execution time. Please utilize the PipelineDefinitionConfig to persist this field in the pipeline definition if desired.\n",
      "2024-07-23 10:13:57,452 sagemaker.remote_function INFO     Uploading serialized function code to s3://sagemaker-us-east-1-146025735673/inference-pipeline/preprocess_evaluation/2024-07-23-10-13-57-452/function\n",
      "2024-07-23 10:13:57,521 sagemaker.remote_function INFO     Uploading serialized function arguments to s3://sagemaker-us-east-1-146025735673/inference-pipeline/preprocess_evaluation/2024-07-23-10-13-57-452/arguments\n",
      "2024-07-23 10:13:57,791 sagemaker.remote_function INFO     Copied dependencies file at './requirements.txt' to '/tmp/tmppv9z66aq/requirements.txt'\n",
      "2024-07-23 10:13:57,816 sagemaker.remote_function INFO     Successfully uploaded dependencies and pre execution scripts to 's3://sagemaker-us-east-1-146025735673/inference-pipeline/preprocess_evaluation/2024-07-23-10-13-57-452/pre_exec_script_and_dependencies'\n",
      "2024-07-23 10:13:57,929 sagemaker.remote_function INFO     Copied user workspace to '/tmp/tmpu6w1ws81/temp_workspace/sagemaker_remote_function_workspace'\n",
      "2024-07-23 10:13:58,522 sagemaker.remote_function INFO     Successfully created workdir archive at '/tmp/tmpu6w1ws81/workspace.zip'\n",
      "2024-07-23 10:13:58,656 sagemaker.remote_function INFO     Successfully uploaded workdir to 's3://sagemaker-us-east-1-146025735673/inference-pipeline/sm_rf_user_ws/2024-07-23-10-13-57-452/workspace.zip'\n",
      "WARNING:sagemaker.workflow.utilities:Popping out 'TrainingJobName' from the pipeline definition by default since it will be overridden at pipeline execution time. Please utilize the PipelineDefinitionConfig to persist this field in the pipeline definition if desired.\n",
      "2024-07-23 10:13:58,666 sagemaker.remote_function INFO     Uploading serialized function code to s3://sagemaker-us-east-1-146025735673/inference-pipeline/evaluate/2024-07-23-10-13-57-452/function\n",
      "2024-07-23 10:13:58,749 sagemaker.remote_function INFO     Uploading serialized function arguments to s3://sagemaker-us-east-1-146025735673/inference-pipeline/evaluate/2024-07-23-10-13-57-452/arguments\n",
      "2024-07-23 10:13:58,866 sagemaker.remote_function INFO     Copied dependencies file at './requirements.txt' to '/tmp/tmpuv86vwih/requirements.txt'\n",
      "2024-07-23 10:13:58,896 sagemaker.remote_function INFO     Successfully uploaded dependencies and pre execution scripts to 's3://sagemaker-us-east-1-146025735673/inference-pipeline/evaluate/2024-07-23-10-13-57-452/pre_exec_script_and_dependencies'\n",
      "WARNING:sagemaker.workflow.utilities:Popping out 'TrainingJobName' from the pipeline definition by default since it will be overridden at pipeline execution time. Please utilize the PipelineDefinitionConfig to persist this field in the pipeline definition if desired.\n"
     ]
    }
   ],
   "source": [
    "pipeline = Pipeline(\n",
    "    name=\"inference-pipeline\",\n",
    "    parameters=[\n",
    "        autopilot_job_name,\n",
    "        validation_dataset_s3_path,\n",
    "        eval_dataset_s3_path,\n",
    "        endpoint_name,\n",
    "        BUCKET_NAME,\n",
    "        eval_metrics_output_key,\n",
    "        base_model_name,\n",
    "        metrics_report_s3_path,\n",
    "        model_approval_status,\n",
    "        model_package_name,\n",
    "        instance_type,\n",
    "        output_s3_path\n",
    "    ],\n",
    "    steps=[\n",
    "        step_preprocess_eval_dataset,\n",
    "        step_evaluate_model,\n",
    "        step_conditional_registration\n",
    "        #add other steps\n",
    "    ],\n",
    "    sagemaker_session=sagemaker_session,\n",
    ")\n",
    "pipeline.upsert(role_arn=SAGEMAKER_EXECUTION_ROLE_ARN)\n",
    "pipeline_execution = pipeline.start()\n",
    "pipeline_execution.wait(delay=20, max_attempts=24 * 60 * 3)  # max wait: 24 hours"
   ]
  },
  {
   "cell_type": "code",
   "execution_count": null,
   "id": "054d5868-3c7b-4063-9da8-80a6d1e4735b",
   "metadata": {},
   "outputs": [],
   "source": []
  }
 ],
 "metadata": {
  "availableInstances": [
   {
    "_defaultOrder": 0,
    "_isFastLaunch": true,
    "category": "General purpose",
    "gpuNum": 0,
    "hideHardwareSpecs": false,
    "memoryGiB": 4,
    "name": "ml.t3.medium",
    "vcpuNum": 2
   },
   {
    "_defaultOrder": 1,
    "_isFastLaunch": false,
    "category": "General purpose",
    "gpuNum": 0,
    "hideHardwareSpecs": false,
    "memoryGiB": 8,
    "name": "ml.t3.large",
    "vcpuNum": 2
   },
   {
    "_defaultOrder": 2,
    "_isFastLaunch": false,
    "category": "General purpose",
    "gpuNum": 0,
    "hideHardwareSpecs": false,
    "memoryGiB": 16,
    "name": "ml.t3.xlarge",
    "vcpuNum": 4
   },
   {
    "_defaultOrder": 3,
    "_isFastLaunch": false,
    "category": "General purpose",
    "gpuNum": 0,
    "hideHardwareSpecs": false,
    "memoryGiB": 32,
    "name": "ml.t3.2xlarge",
    "vcpuNum": 8
   },
   {
    "_defaultOrder": 4,
    "_isFastLaunch": true,
    "category": "General purpose",
    "gpuNum": 0,
    "hideHardwareSpecs": false,
    "memoryGiB": 8,
    "name": "ml.m5.large",
    "vcpuNum": 2
   },
   {
    "_defaultOrder": 5,
    "_isFastLaunch": false,
    "category": "General purpose",
    "gpuNum": 0,
    "hideHardwareSpecs": false,
    "memoryGiB": 16,
    "name": "ml.m5.xlarge",
    "vcpuNum": 4
   },
   {
    "_defaultOrder": 6,
    "_isFastLaunch": false,
    "category": "General purpose",
    "gpuNum": 0,
    "hideHardwareSpecs": false,
    "memoryGiB": 32,
    "name": "ml.m5.2xlarge",
    "vcpuNum": 8
   },
   {
    "_defaultOrder": 7,
    "_isFastLaunch": false,
    "category": "General purpose",
    "gpuNum": 0,
    "hideHardwareSpecs": false,
    "memoryGiB": 64,
    "name": "ml.m5.4xlarge",
    "vcpuNum": 16
   },
   {
    "_defaultOrder": 8,
    "_isFastLaunch": false,
    "category": "General purpose",
    "gpuNum": 0,
    "hideHardwareSpecs": false,
    "memoryGiB": 128,
    "name": "ml.m5.8xlarge",
    "vcpuNum": 32
   },
   {
    "_defaultOrder": 9,
    "_isFastLaunch": false,
    "category": "General purpose",
    "gpuNum": 0,
    "hideHardwareSpecs": false,
    "memoryGiB": 192,
    "name": "ml.m5.12xlarge",
    "vcpuNum": 48
   },
   {
    "_defaultOrder": 10,
    "_isFastLaunch": false,
    "category": "General purpose",
    "gpuNum": 0,
    "hideHardwareSpecs": false,
    "memoryGiB": 256,
    "name": "ml.m5.16xlarge",
    "vcpuNum": 64
   },
   {
    "_defaultOrder": 11,
    "_isFastLaunch": false,
    "category": "General purpose",
    "gpuNum": 0,
    "hideHardwareSpecs": false,
    "memoryGiB": 384,
    "name": "ml.m5.24xlarge",
    "vcpuNum": 96
   },
   {
    "_defaultOrder": 12,
    "_isFastLaunch": false,
    "category": "General purpose",
    "gpuNum": 0,
    "hideHardwareSpecs": false,
    "memoryGiB": 8,
    "name": "ml.m5d.large",
    "vcpuNum": 2
   },
   {
    "_defaultOrder": 13,
    "_isFastLaunch": false,
    "category": "General purpose",
    "gpuNum": 0,
    "hideHardwareSpecs": false,
    "memoryGiB": 16,
    "name": "ml.m5d.xlarge",
    "vcpuNum": 4
   },
   {
    "_defaultOrder": 14,
    "_isFastLaunch": false,
    "category": "General purpose",
    "gpuNum": 0,
    "hideHardwareSpecs": false,
    "memoryGiB": 32,
    "name": "ml.m5d.2xlarge",
    "vcpuNum": 8
   },
   {
    "_defaultOrder": 15,
    "_isFastLaunch": false,
    "category": "General purpose",
    "gpuNum": 0,
    "hideHardwareSpecs": false,
    "memoryGiB": 64,
    "name": "ml.m5d.4xlarge",
    "vcpuNum": 16
   },
   {
    "_defaultOrder": 16,
    "_isFastLaunch": false,
    "category": "General purpose",
    "gpuNum": 0,
    "hideHardwareSpecs": false,
    "memoryGiB": 128,
    "name": "ml.m5d.8xlarge",
    "vcpuNum": 32
   },
   {
    "_defaultOrder": 17,
    "_isFastLaunch": false,
    "category": "General purpose",
    "gpuNum": 0,
    "hideHardwareSpecs": false,
    "memoryGiB": 192,
    "name": "ml.m5d.12xlarge",
    "vcpuNum": 48
   },
   {
    "_defaultOrder": 18,
    "_isFastLaunch": false,
    "category": "General purpose",
    "gpuNum": 0,
    "hideHardwareSpecs": false,
    "memoryGiB": 256,
    "name": "ml.m5d.16xlarge",
    "vcpuNum": 64
   },
   {
    "_defaultOrder": 19,
    "_isFastLaunch": false,
    "category": "General purpose",
    "gpuNum": 0,
    "hideHardwareSpecs": false,
    "memoryGiB": 384,
    "name": "ml.m5d.24xlarge",
    "vcpuNum": 96
   },
   {
    "_defaultOrder": 20,
    "_isFastLaunch": false,
    "category": "General purpose",
    "gpuNum": 0,
    "hideHardwareSpecs": true,
    "memoryGiB": 0,
    "name": "ml.geospatial.interactive",
    "supportedImageNames": [
     "sagemaker-geospatial-v1-0"
    ],
    "vcpuNum": 0
   },
   {
    "_defaultOrder": 21,
    "_isFastLaunch": true,
    "category": "Compute optimized",
    "gpuNum": 0,
    "hideHardwareSpecs": false,
    "memoryGiB": 4,
    "name": "ml.c5.large",
    "vcpuNum": 2
   },
   {
    "_defaultOrder": 22,
    "_isFastLaunch": false,
    "category": "Compute optimized",
    "gpuNum": 0,
    "hideHardwareSpecs": false,
    "memoryGiB": 8,
    "name": "ml.c5.xlarge",
    "vcpuNum": 4
   },
   {
    "_defaultOrder": 23,
    "_isFastLaunch": false,
    "category": "Compute optimized",
    "gpuNum": 0,
    "hideHardwareSpecs": false,
    "memoryGiB": 16,
    "name": "ml.c5.2xlarge",
    "vcpuNum": 8
   },
   {
    "_defaultOrder": 24,
    "_isFastLaunch": false,
    "category": "Compute optimized",
    "gpuNum": 0,
    "hideHardwareSpecs": false,
    "memoryGiB": 32,
    "name": "ml.c5.4xlarge",
    "vcpuNum": 16
   },
   {
    "_defaultOrder": 25,
    "_isFastLaunch": false,
    "category": "Compute optimized",
    "gpuNum": 0,
    "hideHardwareSpecs": false,
    "memoryGiB": 72,
    "name": "ml.c5.9xlarge",
    "vcpuNum": 36
   },
   {
    "_defaultOrder": 26,
    "_isFastLaunch": false,
    "category": "Compute optimized",
    "gpuNum": 0,
    "hideHardwareSpecs": false,
    "memoryGiB": 96,
    "name": "ml.c5.12xlarge",
    "vcpuNum": 48
   },
   {
    "_defaultOrder": 27,
    "_isFastLaunch": false,
    "category": "Compute optimized",
    "gpuNum": 0,
    "hideHardwareSpecs": false,
    "memoryGiB": 144,
    "name": "ml.c5.18xlarge",
    "vcpuNum": 72
   },
   {
    "_defaultOrder": 28,
    "_isFastLaunch": false,
    "category": "Compute optimized",
    "gpuNum": 0,
    "hideHardwareSpecs": false,
    "memoryGiB": 192,
    "name": "ml.c5.24xlarge",
    "vcpuNum": 96
   },
   {
    "_defaultOrder": 29,
    "_isFastLaunch": true,
    "category": "Accelerated computing",
    "gpuNum": 1,
    "hideHardwareSpecs": false,
    "memoryGiB": 16,
    "name": "ml.g4dn.xlarge",
    "vcpuNum": 4
   },
   {
    "_defaultOrder": 30,
    "_isFastLaunch": false,
    "category": "Accelerated computing",
    "gpuNum": 1,
    "hideHardwareSpecs": false,
    "memoryGiB": 32,
    "name": "ml.g4dn.2xlarge",
    "vcpuNum": 8
   },
   {
    "_defaultOrder": 31,
    "_isFastLaunch": false,
    "category": "Accelerated computing",
    "gpuNum": 1,
    "hideHardwareSpecs": false,
    "memoryGiB": 64,
    "name": "ml.g4dn.4xlarge",
    "vcpuNum": 16
   },
   {
    "_defaultOrder": 32,
    "_isFastLaunch": false,
    "category": "Accelerated computing",
    "gpuNum": 1,
    "hideHardwareSpecs": false,
    "memoryGiB": 128,
    "name": "ml.g4dn.8xlarge",
    "vcpuNum": 32
   },
   {
    "_defaultOrder": 33,
    "_isFastLaunch": false,
    "category": "Accelerated computing",
    "gpuNum": 4,
    "hideHardwareSpecs": false,
    "memoryGiB": 192,
    "name": "ml.g4dn.12xlarge",
    "vcpuNum": 48
   },
   {
    "_defaultOrder": 34,
    "_isFastLaunch": false,
    "category": "Accelerated computing",
    "gpuNum": 1,
    "hideHardwareSpecs": false,
    "memoryGiB": 256,
    "name": "ml.g4dn.16xlarge",
    "vcpuNum": 64
   },
   {
    "_defaultOrder": 35,
    "_isFastLaunch": false,
    "category": "Accelerated computing",
    "gpuNum": 1,
    "hideHardwareSpecs": false,
    "memoryGiB": 61,
    "name": "ml.p3.2xlarge",
    "vcpuNum": 8
   },
   {
    "_defaultOrder": 36,
    "_isFastLaunch": false,
    "category": "Accelerated computing",
    "gpuNum": 4,
    "hideHardwareSpecs": false,
    "memoryGiB": 244,
    "name": "ml.p3.8xlarge",
    "vcpuNum": 32
   },
   {
    "_defaultOrder": 37,
    "_isFastLaunch": false,
    "category": "Accelerated computing",
    "gpuNum": 8,
    "hideHardwareSpecs": false,
    "memoryGiB": 488,
    "name": "ml.p3.16xlarge",
    "vcpuNum": 64
   },
   {
    "_defaultOrder": 38,
    "_isFastLaunch": false,
    "category": "Accelerated computing",
    "gpuNum": 8,
    "hideHardwareSpecs": false,
    "memoryGiB": 768,
    "name": "ml.p3dn.24xlarge",
    "vcpuNum": 96
   },
   {
    "_defaultOrder": 39,
    "_isFastLaunch": false,
    "category": "Memory Optimized",
    "gpuNum": 0,
    "hideHardwareSpecs": false,
    "memoryGiB": 16,
    "name": "ml.r5.large",
    "vcpuNum": 2
   },
   {
    "_defaultOrder": 40,
    "_isFastLaunch": false,
    "category": "Memory Optimized",
    "gpuNum": 0,
    "hideHardwareSpecs": false,
    "memoryGiB": 32,
    "name": "ml.r5.xlarge",
    "vcpuNum": 4
   },
   {
    "_defaultOrder": 41,
    "_isFastLaunch": false,
    "category": "Memory Optimized",
    "gpuNum": 0,
    "hideHardwareSpecs": false,
    "memoryGiB": 64,
    "name": "ml.r5.2xlarge",
    "vcpuNum": 8
   },
   {
    "_defaultOrder": 42,
    "_isFastLaunch": false,
    "category": "Memory Optimized",
    "gpuNum": 0,
    "hideHardwareSpecs": false,
    "memoryGiB": 128,
    "name": "ml.r5.4xlarge",
    "vcpuNum": 16
   },
   {
    "_defaultOrder": 43,
    "_isFastLaunch": false,
    "category": "Memory Optimized",
    "gpuNum": 0,
    "hideHardwareSpecs": false,
    "memoryGiB": 256,
    "name": "ml.r5.8xlarge",
    "vcpuNum": 32
   },
   {
    "_defaultOrder": 44,
    "_isFastLaunch": false,
    "category": "Memory Optimized",
    "gpuNum": 0,
    "hideHardwareSpecs": false,
    "memoryGiB": 384,
    "name": "ml.r5.12xlarge",
    "vcpuNum": 48
   },
   {
    "_defaultOrder": 45,
    "_isFastLaunch": false,
    "category": "Memory Optimized",
    "gpuNum": 0,
    "hideHardwareSpecs": false,
    "memoryGiB": 512,
    "name": "ml.r5.16xlarge",
    "vcpuNum": 64
   },
   {
    "_defaultOrder": 46,
    "_isFastLaunch": false,
    "category": "Memory Optimized",
    "gpuNum": 0,
    "hideHardwareSpecs": false,
    "memoryGiB": 768,
    "name": "ml.r5.24xlarge",
    "vcpuNum": 96
   },
   {
    "_defaultOrder": 47,
    "_isFastLaunch": false,
    "category": "Accelerated computing",
    "gpuNum": 1,
    "hideHardwareSpecs": false,
    "memoryGiB": 16,
    "name": "ml.g5.xlarge",
    "vcpuNum": 4
   },
   {
    "_defaultOrder": 48,
    "_isFastLaunch": false,
    "category": "Accelerated computing",
    "gpuNum": 1,
    "hideHardwareSpecs": false,
    "memoryGiB": 32,
    "name": "ml.g5.2xlarge",
    "vcpuNum": 8
   },
   {
    "_defaultOrder": 49,
    "_isFastLaunch": false,
    "category": "Accelerated computing",
    "gpuNum": 1,
    "hideHardwareSpecs": false,
    "memoryGiB": 64,
    "name": "ml.g5.4xlarge",
    "vcpuNum": 16
   },
   {
    "_defaultOrder": 50,
    "_isFastLaunch": false,
    "category": "Accelerated computing",
    "gpuNum": 1,
    "hideHardwareSpecs": false,
    "memoryGiB": 128,
    "name": "ml.g5.8xlarge",
    "vcpuNum": 32
   },
   {
    "_defaultOrder": 51,
    "_isFastLaunch": false,
    "category": "Accelerated computing",
    "gpuNum": 1,
    "hideHardwareSpecs": false,
    "memoryGiB": 256,
    "name": "ml.g5.16xlarge",
    "vcpuNum": 64
   },
   {
    "_defaultOrder": 52,
    "_isFastLaunch": false,
    "category": "Accelerated computing",
    "gpuNum": 4,
    "hideHardwareSpecs": false,
    "memoryGiB": 192,
    "name": "ml.g5.12xlarge",
    "vcpuNum": 48
   },
   {
    "_defaultOrder": 53,
    "_isFastLaunch": false,
    "category": "Accelerated computing",
    "gpuNum": 4,
    "hideHardwareSpecs": false,
    "memoryGiB": 384,
    "name": "ml.g5.24xlarge",
    "vcpuNum": 96
   },
   {
    "_defaultOrder": 54,
    "_isFastLaunch": false,
    "category": "Accelerated computing",
    "gpuNum": 8,
    "hideHardwareSpecs": false,
    "memoryGiB": 768,
    "name": "ml.g5.48xlarge",
    "vcpuNum": 192
   },
   {
    "_defaultOrder": 55,
    "_isFastLaunch": false,
    "category": "Accelerated computing",
    "gpuNum": 8,
    "hideHardwareSpecs": false,
    "memoryGiB": 1152,
    "name": "ml.p4d.24xlarge",
    "vcpuNum": 96
   },
   {
    "_defaultOrder": 56,
    "_isFastLaunch": false,
    "category": "Accelerated computing",
    "gpuNum": 8,
    "hideHardwareSpecs": false,
    "memoryGiB": 1152,
    "name": "ml.p4de.24xlarge",
    "vcpuNum": 96
   },
   {
    "_defaultOrder": 57,
    "_isFastLaunch": false,
    "category": "Accelerated computing",
    "gpuNum": 0,
    "hideHardwareSpecs": false,
    "memoryGiB": 32,
    "name": "ml.trn1.2xlarge",
    "vcpuNum": 8
   },
   {
    "_defaultOrder": 58,
    "_isFastLaunch": false,
    "category": "Accelerated computing",
    "gpuNum": 0,
    "hideHardwareSpecs": false,
    "memoryGiB": 512,
    "name": "ml.trn1.32xlarge",
    "vcpuNum": 128
   },
   {
    "_defaultOrder": 59,
    "_isFastLaunch": false,
    "category": "Accelerated computing",
    "gpuNum": 0,
    "hideHardwareSpecs": false,
    "memoryGiB": 512,
    "name": "ml.trn1n.32xlarge",
    "vcpuNum": 128
   }
  ],
  "instance_type": "ml.t3.medium",
  "kernelspec": {
   "display_name": "Python 3 (Data Science 3.0)",
   "language": "python",
   "name": "python3__SAGEMAKER_INTERNAL__arn:aws:sagemaker:us-east-1:081325390199:image/sagemaker-data-science-310-v1"
  },
  "language_info": {
   "codemirror_mode": {
    "name": "ipython",
    "version": 3
   },
   "file_extension": ".py",
   "mimetype": "text/x-python",
   "name": "python",
   "nbconvert_exporter": "python",
   "pygments_lexer": "ipython3",
   "version": "3.10.6"
  }
 },
 "nbformat": 4,
 "nbformat_minor": 5
}
